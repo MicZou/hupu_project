{
 "cells": [
  {
   "cell_type": "code",
   "execution_count": 1,
   "id": "49f11dea",
   "metadata": {},
   "outputs": [],
   "source": [
    "import requests\n",
    "from bs4 import BeautifulSoup\n",
    "import datetime\n",
    "import pymysql\n",
    "pymysql.install_as_MySQLdb()\n",
    "import time"
   ]
  },
  {
   "cell_type": "code",
   "execution_count": 2,
   "id": "6d84b433",
   "metadata": {},
   "outputs": [],
   "source": [
    "def get_page(link):\n",
    "    header = {'user-agent': 'Mozilla/5.0 (Windows NT 10.0; Win64; x64) AppleWebKit/537.36 (KHTML, like Gecko) Chrome/104.0.0.0 Safari/537.36'}\n",
    "    response = requests.get(link, headers=header).content\n",
    "    html = response.decode('UTF-8')\n",
    "    soup = BeautifulSoup(html,'lxml')\n",
    "    return soup"
   ]
  },
  {
   "cell_type": "code",
   "execution_count": 3,
   "id": "efc9dea8",
   "metadata": {},
   "outputs": [],
   "source": [
    "def get_data(post_list):\n",
    "    data_list=[]\n",
    "    for post in post_list:\n",
    "        title_id = post.find('div',class_='post-title')\n",
    "        title = title_id.a.text.strip()\n",
    "        post_link = title_id.a['href']\n",
    "        post_link = 'https://bbs.hupu.com'+post_link\n",
    "        \n",
    "        #作者、创建时间\n",
    "        author_div = post.find('div',class_='post-auth')\n",
    "        date_div = post.find('div',class_='post-time')\n",
    "        author = author_div.a.text.strip()\n",
    "        start_data = date_div.get_text()\n",
    "        \n",
    "        #回复人数、浏览次数\n",
    "        reply_view = post.find('div',class_='post-datum').text.strip()\n",
    "        reply = reply_view.split('/')[0].strip()\n",
    "        view = reply_view.split('/')[1].strip()\n",
    "        \n",
    "        data_list.append([title,post_link,author,start_data,reply,view])\n",
    "    return data_list"
   ]
  },
  {
   "cell_type": "code",
   "execution_count": 4,
   "id": "542c98e4",
   "metadata": {},
   "outputs": [],
   "source": [
    "class MysqlAPI(object):\n",
    "    def __init__(self,db_ip,db_user,db_password,db_name,db_charset):\n",
    "        self.db_ip = db_ip\n",
    "        self.db_user = db_user\n",
    "        self.db_password = db_password\n",
    "        self.db_name = db_name\n",
    "        self.db_charset = db_charset\n",
    "        self.conn = pymysql.connect(host=self.db_ip,user=self.db_user,\n",
    "                                    password=self.db_password,db=self.db_name,charset=self.db_charset)\n",
    "        self.cur = self.conn.cursor()\n",
    "    def add(self,title,post_link,author,start_data,reply,view):\n",
    "        sql = \"INSERT IGNORE INTO table (column_list)\"\n",
    "        sql = \"INSERT INTO hupu(title,post_link,author,start_data,reply,view)\"\\\n",
    "                                   \"VALUES (\\'%s\\',\\'%s\\',\\'%s\\',\\'%s\\',\\'%s\\',\\'%s\\')\"\n",
    "        self.cur.execute(sql %(title,post_link,author,start_data,reply,view))\n",
    "        self.conn.commit()"
   ]
  },
  {
   "cell_type": "code",
   "execution_count": null,
   "id": "800803c4",
   "metadata": {},
   "outputs": [],
   "source": [
    "for i in range(1,5):\n",
    "    link = 'http://bbs.hupu.com/502-'+str(i)\n",
    "    print('开始第%s页数据爬取...' %i)\n",
    "    soup = get_page(link)\n",
    "    soup = soup.find('div',class_='bbs-sl-web-post')\n",
    "    post_list = soup.find_all('li')\n",
    "    data_list = get_data(post_list)\n",
    "    hupu_post = MysqlAPI('localhost','root','980211','mysql','utf8')\n",
    "    for each in data_list:\n",
    "        hupu_post.add(each[0],each[1],each[2],each[3],each[4],each[5])\n",
    "    print('第%s页爬取完成！' %i)\n",
    "    time.sleep(3)"
   ]
  }
 ],
 "metadata": {
  "kernelspec": {
   "display_name": "Python 3 (ipykernel)",
   "language": "python",
   "name": "python3"
  },
  "language_info": {
   "codemirror_mode": {
    "name": "ipython",
    "version": 3
   },
   "file_extension": ".py",
   "mimetype": "text/x-python",
   "name": "python",
   "nbconvert_exporter": "python",
   "pygments_lexer": "ipython3",
   "version": "3.9.12"
  }
 },
 "nbformat": 4,
 "nbformat_minor": 5
}
